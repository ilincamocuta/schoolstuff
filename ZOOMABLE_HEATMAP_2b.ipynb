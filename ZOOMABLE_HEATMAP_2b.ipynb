{
  "cells": [
    {
      "cell_type": "code",
      "execution_count": 1,
      "metadata": {
        "id": "ngHtgkG3WaGo"
      },
      "outputs": [
        {
          "ename": "ModuleNotFoundError",
          "evalue": "No module named 'pandas'",
          "output_type": "error",
          "traceback": [
            "\u001b[1;31m---------------------------------------------------------------------------\u001b[0m",
            "\u001b[1;31mModuleNotFoundError\u001b[0m                       Traceback (most recent call last)",
            "Cell \u001b[1;32mIn[1], line 1\u001b[0m\n\u001b[1;32m----> 1\u001b[0m \u001b[39mimport\u001b[39;00m \u001b[39mpandas\u001b[39;00m \u001b[39mas\u001b[39;00m \u001b[39mpd\u001b[39;00m \u001b[39m# Import all the libraries we need. Don't touch! \u001b[39;00m\n\u001b[0;32m      2\u001b[0m \u001b[39mimport\u001b[39;00m \u001b[39mnumpy\u001b[39;00m \u001b[39mas\u001b[39;00m \u001b[39mnp\u001b[39;00m \n\u001b[0;32m      3\u001b[0m \u001b[39mimport\u001b[39;00m \u001b[39mmatplotlib\u001b[39;00m\u001b[39m.\u001b[39;00m\u001b[39mpyplot\u001b[39;00m \u001b[39mas\u001b[39;00m \u001b[39mplt\u001b[39;00m\n",
            "\u001b[1;31mModuleNotFoundError\u001b[0m: No module named 'pandas'"
          ]
        }
      ],
      "source": [
        "import pandas as pd # Import all the libraries we need. Don't touch! \n",
        "import numpy as np \n",
        "import matplotlib.pyplot as plt\n",
        "import matplotlib.dates as mdates\n",
        "from datetime import datetime, timedelta\n",
        "################################################################################\n",
        "############################ Things YOU need to Edit  ##########################\n",
        "################################################################################\n",
        "\n",
        "# Tell Python where to find the csv document You MIGHT need to edit this line!!! \n",
        "file='Problem2_data.csv'\n",
        "\n",
        "# Play around with different begin/end dates until you find something \"Cool\" to look at. \n",
        "# The valid dates span 2014-04-10 00:00:00 to 2014-06-04 23:50:00 in YYYY-MM-DD HH:MM:SS format.\n",
        "# I suggest looking at a 1 - 2 day period for each \"event\" you're asked to describe. \n",
        "\n",
        "# Begin Date of zoom in period, Please DO EDIT THIS LINE!!!! \n",
        "begin_date= datetime(2014,4,10,0,0,0) # (YEAR, MONTH, DATE, HOUR, MINUTE, SECOND)\n",
        "\n",
        "# End Date of zoom in period , Please DO EDIT THIS LINE!!!! \n",
        "end_date= datetime(2014,6,4,0,0,0) # (YEAR, MONTH, DATE, HOUR, MINUTE, SECOND)\n",
        "\n",
        "################################################################################\n",
        "############################ Things you SHOULD NOT Edit  #######################\n",
        "################################################################################\n",
        "data=pd.read_csv(file, index_col='DateTime',parse_dates=True) # Read in the file as a pandas \"Dataframe\" \n",
        "\n",
        "# Pull out time and average bin sizes from the \"columns\" of the dataframe\n",
        "time= pd.to_datetime(data.index, infer_datetime_format=True)\n",
        "avg_Dp=np.array(list(data.columns)).astype(np.float64)\n",
        "\n",
        "fig, ax = plt.subplots() # Create a figure and and axis to plot on\n",
        "\n",
        "# Plot the data, set the colormap and colormap min & max values. \n",
        "# Uses transpose of data (data.T) so time is on x axis and bins are on y axis.\n",
        "# Cmap='jet' sets the color scale, and vmin,vmax set the min/max values of the colorbar.\n",
        "plt.pcolor(time, np.log10(avg_Dp), data.T,cmap='jet', vmin=0, vmax=3e4) \n",
        "\n",
        "cbar=plt.colorbar() # Create a colorbar and label it! \n",
        "cbar.set_label(r'$\\frac{dN}{dlog(D_p)} \\ (\\#/cm^3)$')\n",
        "\n",
        "# Format the axis, title, labels, and turn on the \"minor ticks\"\n",
        "ax.set(title='Number Concentration in the Boreal Forest, Finland',\n",
        "       xlabel='Time', ylabel=r'$log_{10}(D_p) (\\mu m)$')\n",
        "ax.minorticks_on()\n",
        "\n",
        "# Set x tick frequency based on how big the desired date range is ... \n",
        "drange= end_date-begin_date\n",
        "if drange <= timedelta(days=1):  # drange < 1 day \n",
        "  interval=1 # Plot a major tick every day\n",
        "  freq=3 # plot a minor tick every 3 hours \n",
        "elif drange>timedelta(days=1) and drange <= timedelta(days=2): #  1 day < drange < 2 days  \n",
        "  interval=1 # Plot a major tick every day\n",
        "  freq=6 # plot a minor tick every 6 hours \n",
        "elif drange>timedelta(days=2) and drange <= timedelta(days=7) : # 2 days < drange < 7 days  \n",
        "  interval=1 # Plot a major tick every day\n",
        "  freq=12 # plot a minor tick every 12 hours \n",
        "elif drange >  timedelta(days=7): # drange > 7 days  \n",
        "  interval=7 # Plot a major tick every week. \n",
        "\n",
        "# Set the x axis Date format and plot bounds! \n",
        "ax.xaxis.set_major_formatter(mdates.DateFormatter('%m/%d')) # Tells it how to display the days\n",
        "ax.xaxis.set_major_locator(mdates.DayLocator(interval=interval))  # plots a major tick each day\n",
        "ax.tick_params(axis=\"x\", which=\"major\", rotation=90) # Rotate days to display vertically\n",
        "if drange <  timedelta(days=7):\n",
        "  ax.xaxis.set_minor_formatter(mdates.DateFormatter('%I%p')) # Tells it how to display the hours\n",
        "  ax.xaxis.set_minor_locator(mdates.HourLocator(interval=freq)) # plots a minor tick each \"FREQ\" hours\n",
        "  ax.tick_params(axis=\"x\", which=\"minor\", rotation=45) # Rotate hours to display side ways \n",
        "\n",
        "ax.set_xbound(begin_date, end_date) # Set the x axis bounds to the time range we want! \n",
        "\n",
        "plt.tight_layout() # make everything display nicely\n",
        "plt.show() # show the plot! \n",
        "\n",
        "\n"
      ]
    }
  ],
  "metadata": {
    "colab": {
      "provenance": []
    },
    "kernelspec": {
      "display_name": "Python 3.10.4 64-bit",
      "language": "python",
      "name": "python3"
    },
    "language_info": {
      "codemirror_mode": {
        "name": "ipython",
        "version": 3
      },
      "file_extension": ".py",
      "mimetype": "text/x-python",
      "name": "python",
      "nbconvert_exporter": "python",
      "pygments_lexer": "ipython3",
      "version": "3.10.4"
    },
    "vscode": {
      "interpreter": {
        "hash": "4181e46df02ed20522862b245cd29b0d5b5e9be723bd222818c8d73112d678b3"
      }
    }
  },
  "nbformat": 4,
  "nbformat_minor": 0
}
